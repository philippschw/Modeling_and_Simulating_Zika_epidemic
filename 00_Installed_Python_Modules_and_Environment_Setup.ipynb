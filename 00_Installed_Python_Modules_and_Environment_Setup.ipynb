{
 "cells": [
  {
   "cell_type": "code",
   "execution_count": 1,
   "metadata": {
    "collapsed": false
   },
   "outputs": [
    {
     "name": "stdout",
     "output_type": "stream",
     "text": [
      "last modified: Fri Oct 14 09:32:12 2016\n",
      "created: Sun Oct 16 01:35:01 2016\n"
     ]
    }
   ],
   "source": [
    "import sys\n",
    "import os.path, time\n",
    "print \"last modified: %s\" % time.ctime(os.path.getmtime('00_Installed_Python_Modules_and_Environment_Setup.ipynb'))\n",
    "print \"created: %s\" % time.ctime(os.path.getctime('00_Installed_Python_Modules_and_Environment_Setup.ipynb'))"
   ]
  },
  {
   "cell_type": "markdown",
   "metadata": {},
   "source": [
    "## Windows 8.1 Environment"
   ]
  },
  {
   "cell_type": "code",
   "execution_count": 2,
   "metadata": {
    "collapsed": false
   },
   "outputs": [
    {
     "name": "stdout",
     "output_type": "stream",
     "text": [
      "2.7.6 (default, Mar 22 2014, 22:59:56) \n",
      "[GCC 4.8.2]\n"
     ]
    }
   ],
   "source": [
    "print (sys.version)    "
   ]
  },
  {
   "cell_type": "code",
   "execution_count": 3,
   "metadata": {
    "collapsed": false
   },
   "outputs": [
    {
     "name": "stdout",
     "output_type": "stream",
     "text": [
      "Python 64 bit\n"
     ]
    }
   ],
   "source": [
    "import struct\n",
    "print 'Python', struct.calcsize(\"P\") * 8, 'bit'"
   ]
  },
  {
   "cell_type": "code",
   "execution_count": 4,
   "metadata": {
    "collapsed": false
   },
   "outputs": [
    {
     "name": "stdout",
     "output_type": "stream",
     "text": [
      "['', '/usr/local/lib/python2.7/dist-packages/xgboost-0.40-py2.7.egg', '/usr/local/lib/python2.7/dist-packages/s3cmd-1.6.0-py2.7.egg', '/usr/local/lib/python2.7/dist-packages/python_magic-0.4.10-py2.7.egg', '/mnt', '/opt/spark-1.6.1-bin-hadoop2.6/python', '/opt/spark-1.6.1-bin-hadoop2.6/python/lib/py4j-0.9-src.zip', '/usr/lib/python2.7', '/usr/lib/python2.7/plat-x86_64-linux-gnu', '/usr/lib/python2.7/lib-tk', '/usr/lib/python2.7/lib-old', '/usr/lib/python2.7/lib-dynload', '/home/ubuntu/.local/lib/python2.7/site-packages', '/usr/local/lib/python2.7/dist-packages', '/usr/local/lib/python2.7/dist-packages/newrelic-2.22.1.20', '/usr/lib/python2.7/dist-packages', '/usr/lib/python2.7/dist-packages/PILcompat', '/usr/lib/python2.7/dist-packages/gtk-2.0', '/usr/lib/pymodules/python2.7', '/usr/local/lib/python2.7/dist-packages/IPython/extensions', '/home/ubuntu/.ipython']\n"
     ]
    }
   ],
   "source": [
    "print(sys.path)"
   ]
  },
  {
   "cell_type": "code",
   "execution_count": 5,
   "metadata": {
    "collapsed": false
   },
   "outputs": [
    {
     "name": "stdout",
     "output_type": "stream",
     "text": [
      "['ad3==2.0.1', 'alabaster==0.7.6', 'amqp==1.4.5', 'aniso8601==0.82', 'anyjson==0.3.3', 'astroid==1.1.1', 'awscli==1.6.2', 'babel==1.3', 'backports-abc==0.4', 'backports.shutil-get-terminal-size==1.0.0', 'backports.ssl-match-hostname==3.5.0.1', 'bcdoc==0.12.2', 'beautifulsoup4==4.3.2', 'billiard==3.3.0.18', 'blist==1.3.4', 'boto==2.33.0', 'botocore==0.73.0', 'brewer2mpl==1.3.2', 'bson==0.3.3', 'celery==3.1.7', 'certifi==2015.4.28', 'cffi==1.2.1', 'chardet==2.1.1', 'cheetah==2.4.4', 'click-plugins==1.0.3', 'click==6.6', 'cligj==0.4.0', 'colorama==0.2.5', 'configobj==4.7.2', 'configparser==3.5.0', 'coverage==3.7.1', 'cryptography==1.0', 'cvxopt==1.1.7', 'cycler==0.10.0', 'cython==0.23.4', 'decorator==4.0.10', 'delorean==0.2.1', 'descartes==1.0.2', 'dicttoxml==1.5.6', 'distribute==0.7.3', 'docopt==0.6.2', 'docutils==0.12', 'entrypoints==0.2.2', 'enum34==1.0.4', 'eventlet==0.14.0', 'filechunkio==1.6', 'fiona==1.7.0.post2', 'flask-cors==1.10.3', 'flask-restful==0.3.0', 'flask==0.10.1', 'folium==0.1.2', 'funcsigs==0.4', 'functools32==3.2.3.post2', 'fuse-python==0.2.1', 'future==0.15.2', 'gensim==0.10.3', 'geopandas==0.2.1', 'ggplot==0.4.7', 'gnupginterface==0.3.2', 'graphlab-create==1.4.0', 'greenlet==0.4.2', 'gunicorn==19.0.0', 'h2o==0.2.3.6', 'h5py==2.5.0', 'heroku==0.1.4', 'hiredis==0.1.4', 'html5lib==0.999', 'httplib2==0.7.7', 'httpretty==0.8.3', 'idna==2.0', 'ipaddress==1.0.14', 'ipykernel==4.3.1', 'ipython-genutils==0.1.0', 'ipython==5.0.0', 'ipywidgets==5.2.2', 'iso8601==0.1.4', 'itsdangerous==0.24', 'jdcal==1.0', 'jinja2==2.8', 'jmespath==0.5.0', 'joblib==0.8.2', 'jsonschema==2.5.1', 'jupyter-client==4.3.0', 'jupyter-console==5.0.0', 'jupyter-core==4.1.0', 'jupyter==1.0.0', 'keyring==0.9.2', 'kombu==3.0.20', 'landscape-client==14.1', 'lazr.uri==1.0.3', 'librato-metrics==0.4.9', 'logbook==0.4.2', 'logilab-common==0.62.0', 'lxml==3.1.2', 'm2crypto==0.22.3', 'markdown==2.3.1', 'markupsafe==0.23', 'matplotlib==1.5.1', 'mistune==0.7.3', 'mixpanel-py==3.1.1', 'mock==1.3.0', 'moto==0.3.3', 'mpltools==0.1', 'msgpack-python==0.3.0', 'munch==2.0.4', 'nbconvert==4.2.0', 'nbformat==4.0.1', 'ndg-httpsclient==0.4.0', 'netcdf4==1.1.0', 'networkx==1.9.1', 'newrelic==2.22.1.20', 'nibabel==1.2.2', 'nltk==2.0.4', 'nose-timer==0.3.0', 'nose==1.3.7', 'notebook==4.2.1', 'numexpr==2.4.3', 'numpy==1.11.1', 'numpydoc==0.5', 'oauth==1.0.1', 'objgraph==1.8.1', 'openpyxl==2.2.5', 'pam==0.1.4', 'pandas==0.18.1', 'paramiko==1.7.7.1', 'parsimonious==0.7.0', 'pathlib2==2.1.0', 'patsy==0.2.1', 'pbr==1.8.0', 'pep8==1.5.7', 'pexpect==4.2.0', 'pickleshare==0.7.3', 'pillow==2.3.0', 'pip==8.1.2', 'plotly==1.8.6', 'pp==1.6.4', 'prettytable==0.7.2', 'prompt-toolkit==1.0.3', 'psutil==0.6.1', 'psycopg2==2.6', 'ptyprocess==0.5.1', 'py4j==0.9', 'pyaml==15.6.3', 'pyasn1==0.1.8', 'pycparser==2.14', 'pycrypto==2.6', 'pycups==1.9.66', 'pycurl==7.19.0', 'pydicom==0.9.8', 'pyfftw==0.9.2', 'pygments==2.1.3', 'pygobject==3.12.0', 'pyinotify==0.9.3', 'pylint==1.1.0', 'pymc==2.3.2', 'pymongo==2.7.1', 'pymvpa2==2.0.1', 'pyopenssl==0.15.1', 'pyparsing==2.1.5', 'pyproj==1.9.5.1', 'pyro4==4.25', 'pyro==3.14', 'pysd==0.3.2', 'pyserial==2.6', 'pysmbc==1.0.14.1', 'pystan==2.6.0.0', 'pystruct==0.2.3', 'python-apt==0.9.3.5', 'python-dateutil==2.5.3', 'python-debian==0.1.21', 'python-igraph==0.7.1.post4', 'python-magic==0.4.10', 'python-termstyle==0.1.10', 'pytz==2016.6.1', 'pywavelets==0.2.2', 'pyyaml==3.11', 'pyzmq==15.3.0', 'qtconsole==4.2.1', 'redis==2.10.3', 'redshift-sqlalchemy==0.4.1', 'reportlab==2.5', 'requests==2.7.0', 'rodeo==0.4.3', 'rpy2==2.4.3', 'rsa==3.1.2', 'ruffus==2.6.3', 'runipy==0.1.1', 's3cmd==1.6.0', 'scientificpython==2.9.4', 'scikit-image==0.10.0', 'scikit-learn==0.17', 'scipy==0.16.1', 'seaborn==0.6.0', 'serpent==1.5', 'setuptools==24.0.3', 'shapely==1.5.17', 'simplegeneric==0.8.1', 'simplejson==2.6.2', 'singledispatch==3.4.0.3', 'six==1.10.0', 'sniffer==0.3.2', 'snowballstemmer==1.2.0', 'sphinx-rtd-theme==0.1.8', 'sphinx==1.3.1', 'sqlalchemy==1.0.4', 'sseclient==0.0.8', 'ssh-import-id==3.14', 'statsmodels==0.6.1', 'subprocess32==3.2.6', 'system-service==0.1.6', 'tabulate==0.7.5', 'terminado==0.6', 'testresources==0.2.7', 'theano==0.7.0', 'tornado==4.4', 'traitlets==4.2.2', 'twisted-core==13.2.0', 'twisted-names==13.2.0', 'twisted-web==13.2.0', 'twitter==1.17.1', 'tzlocal==1.2', 'urllib3==1.18', 'wadllib==1.3.2', 'wcwidth==0.1.7', 'werkzeug==0.9.6', 'wheel==0.29.0', 'widgetsnbextension==1.2.6', 'wsgi-intercept==0.5.1', 'xgboost==0.40', 'xlrd==0.9.3', 'xmltodict==0.9.0', 'zipline==0.5.9', 'zope.interface==4.0.5']\n"
     ]
    }
   ],
   "source": [
    "import pip\n",
    "installed_packages = pip.get_installed_distributions()\n",
    "installed_packages_list = sorted([\"%s==%s\" % (i.key, i.version)\n",
    "     for i in installed_packages])\n",
    "print(installed_packages_list)"
   ]
  },
  {
   "cell_type": "code",
   "execution_count": 6,
   "metadata": {
    "collapsed": false
   },
   "outputs": [
    {
     "data": {
      "text/plain": [
       "<module 'pysd._version' from '/usr/local/lib/python2.7/dist-packages/pysd/_version.pyc'>"
      ]
     },
     "execution_count": 6,
     "metadata": {},
     "output_type": "execute_result"
    }
   ],
   "source": [
    "import pysd\n",
    "pysd._version"
   ]
  },
  {
   "cell_type": "markdown",
   "metadata": {},
   "source": [
    "## Ubuntu 64bit Python Environment"
   ]
  },
  {
   "cell_type": "code",
   "execution_count": 7,
   "metadata": {
    "collapsed": false
   },
   "outputs": [
    {
     "name": "stdout",
     "output_type": "stream",
     "text": [
      "2.7.6 (default, Mar 22 2014, 22:59:56) \n",
      "[GCC 4.8.2]\n"
     ]
    }
   ],
   "source": [
    "print (sys.version)    "
   ]
  },
  {
   "cell_type": "code",
   "execution_count": 8,
   "metadata": {
    "collapsed": false
   },
   "outputs": [
    {
     "name": "stdout",
     "output_type": "stream",
     "text": [
      "Python 64 bit\n"
     ]
    }
   ],
   "source": [
    "import struct\n",
    "print 'Python', struct.calcsize(\"P\") * 8, 'bit'"
   ]
  },
  {
   "cell_type": "code",
   "execution_count": 9,
   "metadata": {
    "collapsed": false
   },
   "outputs": [
    {
     "name": "stdout",
     "output_type": "stream",
     "text": [
      "['', '/usr/local/lib/python2.7/dist-packages/xgboost-0.40-py2.7.egg', '/usr/local/lib/python2.7/dist-packages/s3cmd-1.6.0-py2.7.egg', '/usr/local/lib/python2.7/dist-packages/python_magic-0.4.10-py2.7.egg', '/mnt', '/opt/spark-1.6.1-bin-hadoop2.6/python', '/opt/spark-1.6.1-bin-hadoop2.6/python/lib/py4j-0.9-src.zip', '/usr/lib/python2.7', '/usr/lib/python2.7/plat-x86_64-linux-gnu', '/usr/lib/python2.7/lib-tk', '/usr/lib/python2.7/lib-old', '/usr/lib/python2.7/lib-dynload', '/home/ubuntu/.local/lib/python2.7/site-packages', '/usr/local/lib/python2.7/dist-packages', '/usr/local/lib/python2.7/dist-packages/newrelic-2.22.1.20', '/usr/lib/python2.7/dist-packages', '/usr/lib/python2.7/dist-packages/PILcompat', '/usr/lib/python2.7/dist-packages/gtk-2.0', '/usr/lib/pymodules/python2.7', '/usr/local/lib/python2.7/dist-packages/IPython/extensions', '/home/ubuntu/.ipython']\n"
     ]
    }
   ],
   "source": [
    "import sys\n",
    "print(sys.path)"
   ]
  },
  {
   "cell_type": "code",
   "execution_count": 10,
   "metadata": {
    "collapsed": false
   },
   "outputs": [
    {
     "name": "stdout",
     "output_type": "stream",
     "text": [
      "['ad3==2.0.1', 'alabaster==0.7.6', 'amqp==1.4.5', 'aniso8601==0.82', 'anyjson==0.3.3', 'astroid==1.1.1', 'awscli==1.6.2', 'babel==1.3', 'backports-abc==0.4', 'backports.shutil-get-terminal-size==1.0.0', 'backports.ssl-match-hostname==3.5.0.1', 'bcdoc==0.12.2', 'beautifulsoup4==4.3.2', 'billiard==3.3.0.18', 'blist==1.3.4', 'boto==2.33.0', 'botocore==0.73.0', 'brewer2mpl==1.3.2', 'bson==0.3.3', 'celery==3.1.7', 'certifi==2015.4.28', 'cffi==1.2.1', 'chardet==2.1.1', 'cheetah==2.4.4', 'click-plugins==1.0.3', 'click==6.6', 'cligj==0.4.0', 'colorama==0.2.5', 'configobj==4.7.2', 'configparser==3.5.0', 'coverage==3.7.1', 'cryptography==1.0', 'cvxopt==1.1.7', 'cycler==0.10.0', 'cython==0.23.4', 'decorator==4.0.10', 'delorean==0.2.1', 'descartes==1.0.2', 'dicttoxml==1.5.6', 'distribute==0.7.3', 'docopt==0.6.2', 'docutils==0.12', 'entrypoints==0.2.2', 'enum34==1.0.4', 'eventlet==0.14.0', 'filechunkio==1.6', 'fiona==1.7.0.post2', 'flask-cors==1.10.3', 'flask-restful==0.3.0', 'flask==0.10.1', 'folium==0.1.2', 'funcsigs==0.4', 'functools32==3.2.3.post2', 'fuse-python==0.2.1', 'future==0.15.2', 'gensim==0.10.3', 'geopandas==0.2.1', 'ggplot==0.4.7', 'gnupginterface==0.3.2', 'graphlab-create==1.4.0', 'greenlet==0.4.2', 'gunicorn==19.0.0', 'h2o==0.2.3.6', 'h5py==2.5.0', 'heroku==0.1.4', 'hiredis==0.1.4', 'html5lib==0.999', 'httplib2==0.7.7', 'httpretty==0.8.3', 'idna==2.0', 'ipaddress==1.0.14', 'ipykernel==4.3.1', 'ipython-genutils==0.1.0', 'ipython==5.0.0', 'ipywidgets==5.2.2', 'iso8601==0.1.4', 'itsdangerous==0.24', 'jdcal==1.0', 'jinja2==2.8', 'jmespath==0.5.0', 'joblib==0.8.2', 'jsonschema==2.5.1', 'jupyter-client==4.3.0', 'jupyter-console==5.0.0', 'jupyter-core==4.1.0', 'jupyter==1.0.0', 'keyring==0.9.2', 'kombu==3.0.20', 'landscape-client==14.1', 'lazr.uri==1.0.3', 'librato-metrics==0.4.9', 'logbook==0.4.2', 'logilab-common==0.62.0', 'lxml==3.1.2', 'm2crypto==0.22.3', 'markdown==2.3.1', 'markupsafe==0.23', 'matplotlib==1.5.1', 'mistune==0.7.3', 'mixpanel-py==3.1.1', 'mock==1.3.0', 'moto==0.3.3', 'mpltools==0.1', 'msgpack-python==0.3.0', 'munch==2.0.4', 'nbconvert==4.2.0', 'nbformat==4.0.1', 'ndg-httpsclient==0.4.0', 'netcdf4==1.1.0', 'networkx==1.9.1', 'newrelic==2.22.1.20', 'nibabel==1.2.2', 'nltk==2.0.4', 'nose-timer==0.3.0', 'nose==1.3.7', 'notebook==4.2.1', 'numexpr==2.4.3', 'numpy==1.11.1', 'numpydoc==0.5', 'oauth==1.0.1', 'objgraph==1.8.1', 'openpyxl==2.2.5', 'pam==0.1.4', 'pandas==0.18.1', 'paramiko==1.7.7.1', 'parsimonious==0.7.0', 'pathlib2==2.1.0', 'patsy==0.2.1', 'pbr==1.8.0', 'pep8==1.5.7', 'pexpect==4.2.0', 'pickleshare==0.7.3', 'pillow==2.3.0', 'pip==8.1.2', 'plotly==1.8.6', 'pp==1.6.4', 'prettytable==0.7.2', 'prompt-toolkit==1.0.3', 'psutil==0.6.1', 'psycopg2==2.6', 'ptyprocess==0.5.1', 'py4j==0.9', 'pyaml==15.6.3', 'pyasn1==0.1.8', 'pycparser==2.14', 'pycrypto==2.6', 'pycups==1.9.66', 'pycurl==7.19.0', 'pydicom==0.9.8', 'pyfftw==0.9.2', 'pygments==2.1.3', 'pygobject==3.12.0', 'pyinotify==0.9.3', 'pylint==1.1.0', 'pymc==2.3.2', 'pymongo==2.7.1', 'pymvpa2==2.0.1', 'pyopenssl==0.15.1', 'pyparsing==2.1.5', 'pyproj==1.9.5.1', 'pyro4==4.25', 'pyro==3.14', 'pysd==0.3.2', 'pyserial==2.6', 'pysmbc==1.0.14.1', 'pystan==2.6.0.0', 'pystruct==0.2.3', 'python-apt==0.9.3.5', 'python-dateutil==2.5.3', 'python-debian==0.1.21', 'python-igraph==0.7.1.post4', 'python-magic==0.4.10', 'python-termstyle==0.1.10', 'pytz==2016.6.1', 'pywavelets==0.2.2', 'pyyaml==3.11', 'pyzmq==15.3.0', 'qtconsole==4.2.1', 'redis==2.10.3', 'redshift-sqlalchemy==0.4.1', 'reportlab==2.5', 'requests==2.7.0', 'rodeo==0.4.3', 'rpy2==2.4.3', 'rsa==3.1.2', 'ruffus==2.6.3', 'runipy==0.1.1', 's3cmd==1.6.0', 'scientificpython==2.9.4', 'scikit-image==0.10.0', 'scikit-learn==0.17', 'scipy==0.16.1', 'seaborn==0.6.0', 'serpent==1.5', 'setuptools==24.0.3', 'shapely==1.5.17', 'simplegeneric==0.8.1', 'simplejson==2.6.2', 'singledispatch==3.4.0.3', 'six==1.10.0', 'sniffer==0.3.2', 'snowballstemmer==1.2.0', 'sphinx-rtd-theme==0.1.8', 'sphinx==1.3.1', 'sqlalchemy==1.0.4', 'sseclient==0.0.8', 'ssh-import-id==3.14', 'statsmodels==0.6.1', 'subprocess32==3.2.6', 'system-service==0.1.6', 'tabulate==0.7.5', 'terminado==0.6', 'testresources==0.2.7', 'theano==0.7.0', 'tornado==4.4', 'traitlets==4.2.2', 'twisted-core==13.2.0', 'twisted-names==13.2.0', 'twisted-web==13.2.0', 'twitter==1.17.1', 'tzlocal==1.2', 'urllib3==1.18', 'wadllib==1.3.2', 'wcwidth==0.1.7', 'werkzeug==0.9.6', 'wheel==0.29.0', 'widgetsnbextension==1.2.6', 'wsgi-intercept==0.5.1', 'xgboost==0.40', 'xlrd==0.9.3', 'xmltodict==0.9.0', 'zipline==0.5.9', 'zope.interface==4.0.5']\n"
     ]
    }
   ],
   "source": [
    "import pip\n",
    "installed_packages = pip.get_installed_distributions()\n",
    "installed_packages_list = sorted([\"%s==%s\" % (i.key, i.version)\n",
    "     for i in installed_packages])\n",
    "print(installed_packages_list)"
   ]
  },
  {
   "cell_type": "code",
   "execution_count": 11,
   "metadata": {
    "collapsed": true
   },
   "outputs": [],
   "source": []
  }
 ],
 "metadata": {
  "kernelspec": {
   "display_name": "Python 2",
   "language": "python",
   "name": "python2"
  },
  "language_info": {
   "codemirror_mode": {
    "name": "ipython",
    "version": 2
   },
   "file_extension": ".py",
   "mimetype": "text/x-python",
   "name": "python",
   "nbconvert_exporter": "python",
   "pygments_lexer": "ipython2",
   "version": "2.7.6"
  },
  "widgets": {
   "state": {},
   "version": "1.1.2"
  }
 },
 "nbformat": 4,
 "nbformat_minor": 0
}
