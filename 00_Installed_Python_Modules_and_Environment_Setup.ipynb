{
 "cells": [
  {
   "cell_type": "code",
   "execution_count": 2,
   "metadata": {
    "collapsed": false
   },
   "outputs": [
    {
     "name": "stdout",
     "output_type": "stream",
     "text": [
      "last modified: Fri Oct 14 11:31:09 2016\n",
      "created: Fri Oct 14 11:31:42 2016\n"
     ]
    }
   ],
   "source": [
    "import sys\n",
    "import os.path, time\n",
    "print \"last modified: %s\" % time.ctime(os.path.getmtime('00_Installed_Python_Modules_and_Environment_Setup.ipynb'))\n",
    "print \"created: %s\" % time.ctime(os.path.getctime('00_Installed_Python_Modules_and_Environment_Setup.ipynb'))"
   ]
  },
  {
   "cell_type": "markdown",
   "metadata": {},
   "source": [
    "## Windows 8.1 Environment"
   ]
  },
  {
   "cell_type": "code",
   "execution_count": 2,
   "metadata": {
    "collapsed": false
   },
   "outputs": [
    {
     "name": "stdout",
     "output_type": "stream",
     "text": [
      "2.7.11 | 32-bit | (default, Mar 18 2016, 21:45:29) [MSC v.1500 32 bit (Intel)]\n"
     ]
    }
   ],
   "source": [
    "print (sys.version)    "
   ]
  },
  {
   "cell_type": "code",
   "execution_count": 3,
   "metadata": {
    "collapsed": false
   },
   "outputs": [
    {
     "name": "stdout",
     "output_type": "stream",
     "text": [
      "Python 32 bit\n"
     ]
    }
   ],
   "source": [
    "import struct\n",
    "print 'Python', struct.calcsize(\"P\") * 8, 'bit'"
   ]
  },
  {
   "cell_type": "code",
   "execution_count": 4,
   "metadata": {
    "collapsed": false
   },
   "outputs": [
    {
     "name": "stdout",
     "output_type": "stream",
     "text": [
      "['', 'C:\\\\Users\\\\Schwarz\\\\AppData\\\\Local\\\\Enthought\\\\Canopy32\\\\User\\\\lib\\\\site-packages\\\\gcmap-0.0.3-py2.7.egg', 'D:\\\\PycharmWorkbench_Bramka\\\\EMAworkbench-master\\\\src', 'C:\\\\Users\\\\Schwarz\\\\Dropbox\\\\Workspace_Zika_Models_Philipp\\\\ C:\\\\Users\\\\Schwarz\\\\AppData\\\\Local\\\\Enthought\\\\Canopy32\\\\User\\\\Lib\\\\site-packages\\\\pygraphviz', 'C:\\\\Users\\\\Schwarz\\\\AppData\\\\Local\\\\Enthought\\\\Canopy32\\\\User\\\\Scripts\\\\python27.zip', 'C:\\\\Users\\\\Schwarz\\\\AppData\\\\Local\\\\Enthought\\\\Canopy32\\\\App\\\\appdata\\\\canopy-1.7.2.3327.win-x86\\\\DLLs', 'C:\\\\Users\\\\Schwarz\\\\AppData\\\\Local\\\\Enthought\\\\Canopy32\\\\App\\\\appdata\\\\canopy-1.7.2.3327.win-x86\\\\lib', 'C:\\\\Users\\\\Schwarz\\\\AppData\\\\Local\\\\Enthought\\\\Canopy32\\\\App\\\\appdata\\\\canopy-1.7.2.3327.win-x86\\\\lib\\\\plat-win', 'C:\\\\Users\\\\Schwarz\\\\AppData\\\\Local\\\\Enthought\\\\Canopy32\\\\App\\\\appdata\\\\canopy-1.7.2.3327.win-x86\\\\lib\\\\lib-tk', 'C:\\\\Users\\\\Schwarz\\\\AppData\\\\Local\\\\Enthought\\\\Canopy32\\\\App\\\\appdata\\\\canopy-1.7.2.3327.win-x86', 'C:\\\\Users\\\\Schwarz\\\\AppData\\\\Local\\\\Enthought\\\\Canopy32\\\\User', 'C:\\\\Users\\\\Schwarz\\\\AppData\\\\Local\\\\Enthought\\\\Canopy32\\\\User\\\\lib\\\\site-packages', 'C:\\\\Users\\\\Schwarz\\\\AppData\\\\Local\\\\Enthought\\\\Canopy32\\\\User\\\\lib\\\\site-packages\\\\win32', 'C:\\\\Users\\\\Schwarz\\\\AppData\\\\Local\\\\Enthought\\\\Canopy32\\\\User\\\\lib\\\\site-packages\\\\win32\\\\lib', 'C:\\\\Users\\\\Schwarz\\\\AppData\\\\Local\\\\Enthought\\\\Canopy32\\\\User\\\\lib\\\\site-packages\\\\Pythonwin', 'C:\\\\Users\\\\Schwarz\\\\AppData\\\\Local\\\\Enthought\\\\Canopy32\\\\App\\\\appdata', 'C:\\\\Users\\\\Schwarz\\\\AppData\\\\Local\\\\Enthought\\\\Canopy32\\\\App\\\\appdata\\\\canopy-1.7.2.3327.win-x86\\\\lib\\\\site-packages', 'C:\\\\Users\\\\Schwarz\\\\AppData\\\\Local\\\\Enthought\\\\Canopy32\\\\User\\\\lib\\\\site-packages\\\\IPython\\\\extensions', 'C:\\\\Users\\\\Schwarz\\\\.ipython', 'D:/PycharmWorkbench_Bramka/EMAworkbench-master/src']\n"
     ]
    }
   ],
   "source": [
    "print(sys.path)"
   ]
  },
  {
   "cell_type": "code",
   "execution_count": 5,
   "metadata": {
    "collapsed": false
   },
   "outputs": [
    {
     "name": "stdout",
     "output_type": "stream",
     "text": [
      "['-registry-path==1.0', '7z==9.20', 'affine==1.2.0', 'aggdraw==1.2a3', 'alembic==0.8.5', 'amqp==1.4.5', 'aniso8601==0.92', 'anyjson==0.3.3', 'apipkg==1.4', 'appinst==2.1.5', 'apptools==4.4.0', 'arch==3.0', 'atom==0.3.10', 'attrs==15.2.0', 'babel==2.3.4', 'backports-abc==0.4', 'backports.shutil-get-terminal-size==1.0.0', 'backports.ssl-match-hostname==3.5.0.1', 'basemap-ld==1.0.7', 'basemap==1.0.7', 'bcolz==1.0.0', 'bcrypt==2.0.0', 'bdot==0.1.7', 'beautifulsoup4==4.4.1', 'behave==1.2.5', 'biggus==0.7.0', 'billiard==3.3.0.18', 'biopython==1.67', 'bitarray==0.8.1', 'blist==1.3.6', 'blosc==1.2.8', 'blz==0.6.2', 'bokeh==0.11.1', 'boto==2.40.0', 'bottleneck==1.0.0', 'branca==0.1.1', 'brewer2mpl==1.4', 'bsdiff4==1.1.4', 'bz2file==0.98', 'bzip2==1.0.6', 'cartopy==0.13.0', 'casuarius==1.1', 'cdecimal==2.3', 'celery==3.1.19', 'certifi==2015.11.20.1', 'cffi==1.6.0', 'chaco==4.5.0', 'chameleon==2.22', 'characteristic==14.3.0', 'cheetah==2.4.4', 'click-plugins==1.0.3', 'click==6.6', 'cligj==0.4.0', 'clint==0.4.1', 'cmake==3.4.3', 'codetools==4.2.0', 'colorama==0.3.7', 'comtypes==1.1.2', 'configobj==5.0.6', 'configparser==3.3.0.post2', 'coverage==4.0.3', 'cryptography==1.3.2', 'curl==7.43.0', 'cycler==0.10.0', 'cython==0.24', 'dask==0.8.2', 'deap==1.0.2', 'decorator==4.0.9', 'descartes==1.0.2', 'distribute-remove==1.0.0', 'dnspython==1.12.0', 'doclinks==7.3', 'docopt==0.6.2', 'doctest-tools==1.0a3', 'docutils==0.12', 'dynd-python==0.6.6', 'ecdsa==0.13', 'enable==4.5.1', 'enaml==0.9.8', 'encore==0.6.0', 'endist==1.2.3', 'enstaller==4.8.11', 'entrypoints==0.2.1', 'enum34==1.1.5', 'envisage==4.5.1', 'epydoc==3.0.1', 'examples==7.3', 'execnet==1.4.1', 'expat==2.0.1', 'fabric==1.11.1', 'fastnumpy==1.0', 'feedparser==5.2.1', 'ffnet==0.8.3', 'fiona==1.6.3', 'fipy==3.1', 'flake8==2.5.1', 'flask-babel==0.9', 'flask-login==0.2.11', 'flask-restful-swagger==0.19', 'flask-restful==0.3.2', 'flask-restplus==0.7.1', 'flask-wtf==0.12', 'flask==0.10.1', 'folium==0.2.1', 'foolscap==0.7.0', 'functools32==3.2.3.post2', 'future==0.15.2', 'futures==3.0.5', 'fwrap==0.1.1', 'gcmap==0.0.3', 'gdal==1.11.4', 'geojson==1.0.8', 'geonamescache==0.21', 'geopandas==0.1.0.dev-dc4b548', 'geopy==1.11.0', 'georasters==0.4', 'gevent==1.1.0', 'ggplot==0.6.8', 'gitdb==0.6.4', 'gitpython==1.0.0', 'glut==3.7.6', 'googlecl==0.9.12', 'graphviz==0.4.10', 'greenlet==0.4.9', 'grin==1.2.1', 'h5py==2.6.0', 'haas==0.6.2', 'hatcher==0.10.1', 'haversine==0.4.5', 'hdf5==1.8.16', 'holoviews==1.4.3', 'html5lib==0.999', 'htmltemplate==1.5.0', 'httplib2==0.9.2', 'httpretty==0.8.10', 'hypothesis==3.1.3', 'idle==2.7.3', 'idna==2.1', 'imageio==1.5', 'images2gif==1.0.1', 'into==0.2.2', 'ipaddress==1.0.16', 'ipdb==0.6.1', 'ipykernel==4.3.1', 'ipyparallel==5.0.1', 'ipython-genutils==0.1.0', 'ipython4==4.1.2', 'ipython==4.0.0', 'ipywidgets==4.1.1', 'iris==1.8.1', 'iso3166==0.7', 'isodate==0.5.1', 'itsdangerous==0.24', 'jason==0.1.7', 'jedi==0.9.0', 'jinja2==2.8', 'jinja==1.2', 'joblib==0.9.4', 'jom==1.1.0', 'jsonpickle==0.4.0', 'jsonschema==2.5.1', 'jupyter-client==4.2.2', 'jupyter-console==4.1.1', 'jupyter-core==4.1.0', 'jupyter==1.0.0', 'kerberos-sspi==0.2', 'keyring==4.0', 'kiwisolver==0.1.3', 'kombu==3.0.21', 'larry==0.6.0', 'lib-netcdf4==4.3.3.1', 'libdynd==0.6.6', 'libevent==2.0.21', 'libgdal==2.0.1', 'libopenjpeg==2.1.0', 'libpng==1.6.12', 'libproj==4.8.0', 'libpython==1.3.0', 'libudunits==2.2.17', 'libxml2==2.9.2', 'line-profiler==1.0', 'llvm==3.7.1', 'llvmmath==0.1.1', 'llvmpy==0.12.7', 'lmfit==0.9.2', 'logbook==0.9.0', 'lxml==3.6.0', 'mahotas==1.3.0', 'mako==1.0.4', 'markdown==2.6.5', 'markupsafe==0.23', 'matplotlib==1.5.1', 'mayavi==4.4.3', 'mccabe==0.3.1', 'mdp==3.5', 'meld3==1.0.2', 'memory-profiler==0.41', 'mesa==0.7.0', 'meta==-', 'mingw==4.8.1', 'mistune==0.7.2', 'mkl-service==1.0', 'mkl==11.1.4', 'mlab==1.1.4', 'mne==0.11.0', 'moto==0.4.6', 'mpld3==0.2', 'mplleaflet==0.0.5', 'mpmath==0.19', 'msgpack-python==0.4.6', 'msgpack==0.4.2', 'mwparserfromhell==0.4.3', 'nasm==2.11.6', 'nbconvert==4.1.0', 'nbformat==4.0.1', 'ndg-httpsclient==0.4.0', 'netcdf4==1.2.2', 'networkx==1.11', 'nltk==3.2', 'nose==1.3.7', 'notebook==4.1.0', 'numexpr==2.5.2', 'numpy==1.11.0', 'okonomiyaki==0.15.0', 'opencv==2.4.9', 'openssl==1.0.2.7', 'owslib==0.8.8', 'pandas-datareader==0.2.1', 'pandoc==1.12.3', 'param==1.3.2', 'paramiko==1.16.0', 'parse-type==0.3.4', 'parse==1.6.6', 'parsimonious==0.6.2', 'passlib==1.6.5', 'path.py==8.1.1', 'pathlib2==2.1.0', 'patsy==0.4.1', 'pep8==1.7.0', 'pexpect==2.4', 'pickleshare==0.7.2', 'pil-remove==1.0.0', 'pillow==3.2.0', 'pip==8.1.2', 'plotly==1.9.10', 'ply==3.8', 'portaudio==19', 'protobuf-python==2.6.1', 'protobuf==2.6.1', 'psutil==3.3.0', 'pyad==0.5.14', 'pyamg==2.2.1', 'pyasn1-modules==0.0.8', 'pyasn1==0.1.9', 'pyaudio==0.2.4', 'pybrain==0.3', 'pycluster==1.50', 'pycountry==1.20', 'pycparser==2.14', 'pycrypto==2.6.1', 'pycurl==7.19.5', 'pydicom==0.9.9', 'pydot==1.0.28', 'pyephem==3.7.5.3', 'pyface==5.1.0', 'pyfits==3.3', 'pyflakes==1.1.0', 'pygal==2.1.1', 'pygarrayimage==0.0.7', 'pygeoj==0.22', 'pyglet==1.1.4', 'pygments==2.1.3', 'pygraphviz==1.3.1', 'pygtiff==1.0.3', 'pyhdf==0.8.3', 'pyke==1.1.1', 'pymc==2.3.6', 'pymongo==3.2.1', 'pymysql==0.6.7', 'pyodbc==3.0.10', 'pyopengl==3.1.0', 'pyopenssl==16.0.0', 'pyparsing==2.0.3', 'pyproj==1.9.4', 'pyqt==4.11.4', 'pyreadline==2.1', 'pysal==1.11.1', 'pysd==0.3.2', 'pyserial==2.7', 'pyshp==1.2.0', 'pyside-debug==1.2.2', 'pysparse==1.2.dev0', 'pystache==0.5.4', 'pytables==3.2.2', 'python-dateutil==2.5.3', 'python-editor==1.0', 'python-ntlm3==1.0.2', 'python-pptx==0.5.8', 'python-termstyle==0.1.10', 'pythondoc==2.7.3', 'pytz==2016.4', 'pyvisa==1.8', 'pywikibot==2.0rc4', 'pywin32==220', 'pywinrm==0.0.3', 'pyxb==1.2.4', 'pyyaml==3.11', 'pyzmq==15.2.0', 'qpython==1.0.0', 'qtconsole==4.2.1', 'quandl==2.8.9', 'rasterio==0.34.0', 'rasterstats==0.10.3', 'redis-py==2.10.3', 'rednose==0.4.1', 'reportlab==3.3.0', 'requests-cache==0.4.12', 'requests-file==1.4', 'requests-ntlm==0.2.0', 'requests==2.10.0', 'rsa==3.1.2', 'rtree==0.8.2', 'salib==0.7.1', 'sas7bdat==2.0.7', 'scandir==1.1', 'scientificpython==2.9.0', 'scikit-image==0.12.3', 'scikit-learn==0.17.1', 'scikits.rsformats==0.1', 'scikits.timeseries==0.91.3', 'scipy==0.17.0', 'scite==1.74', 'scons==2.3.3', 'scraperwiki==0.5.1', 'scs==1.2.1', 'seaborn==0.7.0', 'selenium==2.48.0', 'setuptools==21.0.0', 'sfepy==2014.4', 'shapely==1.5.15', 'shiboken-debug==1.2.2', 'simplegeneric==0.8.1', 'simplegui==0.1.0', 'simplejson==3.8.2', 'simpy==3.0.5', 'singledispatch==3.4.0.3', 'sip==4.17', 'six==1.10.0', 'smart-open==1.3.2', 'smmap==0.9.0', 'snuggs==1.3.1', 'speaklater==1.3', 'spyder==2.3.8', 'sqlalchemy==1.0.12', 'ssl-match-hostname==3.4.0.2', 'statsmodels==0.6.1', 'stevedore==1.2.0', 'sympy==1.0', 'tabulate==0.7.3', 'tar==1.13', 'tcltk==8.5.7', 'tifffile==0.9.0', 'toolz==0.7.4', 'tornado==4.3', 'traitlets==4.2.1', 'traits-enaml==0.2.1', 'traits==4.5.0', 'traitsui==5.1.0', 'transaction==1.4.4', 'twisted==16.1.1', 'tzlocal==1.2', 'unidecode==0.4.19', 'version-information==1.0.3', 'vtk==6.3.0', 'werkzeug==0.11.10', 'wheel==0.29.0', 'whoosh==2.7.4', 'whooshdoc==1.0', 'widgetsnbextension==1.1.0', 'wikipedia==1.4.0', 'wikitools==1.3', 'wix==3.8', 'wtforms==2.1', 'wxpython==3.0.2.0', 'x13as==1.1.19', 'xlrd==0.9.4', 'xlsxwriter==0.8.4', 'xlutils==1.7.1', 'xmltodict==0.9.2', 'yagmail==0.5.140', 'zipfile2==0.0.12', 'zipline==0.7.0', 'zlib==1.2.6', 'zope.exceptions==4.0.8', 'zope.interface==4.1.3', 'zope.sqlalchemy==0.7.6', 'zope.testing==4.5.0']\n"
     ]
    }
   ],
   "source": [
    "import pip\n",
    "installed_packages = pip.get_installed_distributions()\n",
    "installed_packages_list = sorted([\"%s==%s\" % (i.key, i.version)\n",
    "     for i in installed_packages])\n",
    "print(installed_packages_list)"
   ]
  },
  {
   "cell_type": "code",
   "execution_count": 3,
   "metadata": {
    "collapsed": false
   },
   "outputs": [
    {
     "data": {
      "text/plain": [
       "<module 'pysd._version' from 'C:\\Users\\Schwarz\\AppData\\Local\\Enthought\\Canopy32\\User\\lib\\site-packages\\pysd\\_version.pyc'>"
      ]
     },
     "execution_count": 3,
     "metadata": {},
     "output_type": "execute_result"
    }
   ],
   "source": [
    "import pysd\n",
    "pysd._version"
   ]
  },
  {
   "cell_type": "markdown",
   "metadata": {},
   "source": [
    "## Ubuntu 64bit Python Environment"
   ]
  },
  {
   "cell_type": "code",
   "execution_count": 3,
   "metadata": {
    "collapsed": false
   },
   "outputs": [
    {
     "name": "stdout",
     "output_type": "stream",
     "text": [
      "2.7.6 (default, Jun 22 2015, 17:58:13) \n",
      "[GCC 4.8.2]\n"
     ]
    }
   ],
   "source": [
    "print (sys.version)    "
   ]
  },
  {
   "cell_type": "code",
   "execution_count": 4,
   "metadata": {
    "collapsed": false
   },
   "outputs": [
    {
     "name": "stdout",
     "output_type": "stream",
     "text": [
      "Python 64 bit\n"
     ]
    }
   ],
   "source": [
    "import struct\n",
    "print 'Python', struct.calcsize(\"P\") * 8, 'bit'"
   ]
  },
  {
   "cell_type": "code",
   "execution_count": 5,
   "metadata": {
    "collapsed": false
   },
   "outputs": [
    {
     "name": "stdout",
     "output_type": "stream",
     "text": [
      "['', '/usr/local/lib/python2.7/dist-packages/pyproj-1.9.5.1-py2.7-linux-x86_64.egg', '/usr/local/lib/python2.7/dist-packages/descartes-1.0.2-py2.7.egg', '/usr/local/lib/python2.7/dist-packages/GDAL-1.11.0-py2.7-linux-x86_64.egg', '/usr/local/lib/python2.7/dist-packages/Rtree-0.8.2-py2.7.egg', '/home/philipp/Dropbox/Workspace_Zika_Models_Philipp/\\xc2\\xa8\\xc2\\xa8', '/home/philipp/Dropbox/Workspace_Zika_Models_Philipp/src\\xc2\\xa8', '/usr/lib/python2.7', '/usr/lib/python2.7/plat-x86_64-linux-gnu', '/usr/lib/python2.7/lib-tk', '/usr/lib/python2.7/lib-old', '/usr/lib/python2.7/lib-dynload', '/usr/local/lib/python2.7/dist-packages', '/usr/local/lib/python2.7/dist-packages', '/usr/lib/python2.7/dist-packages', '/usr/lib/python2.7/dist-packages/PILcompat', '/usr/lib/python2.7/dist-packages/gtk-2.0', '/usr/lib/pymodules/python2.7', '/usr/lib/python2.7/dist-packages/ubuntu-sso-client', '/usr/local/lib/python2.7/dist-packages/IPython/extensions', '/home/philipp/.ipython']\n"
     ]
    }
   ],
   "source": [
    "import sys\n",
    "print(sys.path)"
   ]
  },
  {
   "cell_type": "code",
   "execution_count": 6,
   "metadata": {
    "collapsed": false
   },
   "outputs": [
    {
     "name": "stdout",
     "output_type": "stream",
     "text": [
      "['adium-theme-ubuntu==0.3.4', 'affine==2.0.0.post1', 'aggdraw==1.2a3.post20060212', 'apt-xapian-index==0.45', 'autopep8==1.2.4', 'backports-abc==0.4', 'backports.shutil-get-terminal-size==1.0.0', 'backports.ssl-match-hostname==3.5.0.1', 'basemap==1.0.7', 'certifi==2016.2.28', 'cffi==1.6.0', 'chardet==2.0.1', 'cheetah==2.4.4', 'click-plugins==1.0.3', 'click==6.6', 'cligj==0.4.0', 'colorama==0.3.7', 'command-not-found==0.3', 'configparser==3.5.0', 'cryptography==1.4', 'cycler==0.10.0', 'cython==0.24', 'dap==2.2.6.7', 'dask==0.9.0', 'deap==1.0.2', 'debtagshw==0.1', 'decorator==4.0.9', 'defer==1.0.6', 'descartes==1.0.2', 'dirspec==13.10', 'distribute==0.7.3', 'docopt==0.6.2', 'docutils==0.12', 'duplicity==0.6.23', 'ecdsa==0.13', 'entrypoints==0.2.2', 'enum34==1.1.6', 'fabric==1.11.1', 'fiona==1.7.0.post2', 'formencode==1.3.0', 'functools32==3.2.3.post2', 'gdal==1.11.0', 'geopandas==0.1.0.dev0', 'geopy==1.11.0', 'gyp==0.1', 'h5py==2.6.0', 'haversine==0.4.5', 'html5lib==0.9999999', 'httplib2==0.9.2', 'idna==2.1', 'imageio==1.5', 'images2gif==1.0.1', 'ipaddress==1.0.16', 'ipykernel==4.3.1', 'ipython-genutils==0.1.0', 'ipython==4.2.0', 'ipywidgets==5.1.5', 'iso3166==0.7', 'jinja2==2.8', 'jsonschema==2.5.1', 'jupyter-client==4.2.2', 'jupyter-console==4.1.1', 'jupyter-core==4.1.0', 'jupyter==1.0.0', 'leveldb==0.193', 'lmdb==0.89', 'lockfile==0.12.2', 'lxml==3.3.3', 'markupsafe==0.23', 'matplotlib==1.5.1', 'mercurial==3.8.3', 'mesa==0.7.5', 'mistune==0.7.2', 'mpld3==0.2', 'mplleaflet==0.0.5', 'nbconvert==4.2.0', 'nbformat==4.0.1', 'networkx==1.11', 'nose==1.3.7', 'notebook==4.2.1', 'numpy==1.11.2', 'oauthlib==1.1.2', 'oneconf==0.3.7.14.4.1', 'pam==0.4.2', 'pandas==0.19.0', 'paramiko==1.17.1', 'parsimonious==0.6.2', 'paste==2.0.3', 'pastedeploy==1.5.2', 'pastescript==2.0.2', 'pathlib2==2.1.0', 'patsy==0.4.1', 'pep8==1.7.0', 'pexpect==4.1.0', 'pickleshare==0.7.2', 'pillow==3.2.0', 'pip-review==0.4', 'pip==8.1.2', 'pipreqs==0.4.4', 'piston-mini-client==0.7.5', 'pprintpp==0.2.3', 'protobuf==2.6.1', 'ptyprocess==0.5.1', 'pyasn1==0.1.9', 'pycparser==2.14', 'pycrypto==2.6.1', 'pycups==1.9.66', 'pycurl==7.43.0', 'pydns==2.3.6', 'pydot==1.1.0', 'pygments==2.1.3', 'pygobject==3.12.0', 'pygraphviz==1.2', 'pygtiff==1.0.4', 'pyopenssl==16.0.0', 'pyparsing==2.1.4', 'pyproj==1.9.5.1', 'pysal==1.11.2', 'pysd==0.6.3', 'pyserial==3.1', 'pyshp==1.2.3', 'pysmbc==1.0.14.1', u'python-apt==0.9.3.5ubuntu2', 'python-dateutil==2.5.3', 'python-debian==0.1.23', 'python-gflags==3.0.5', 'python-openid==2.2.5', 'pytz==2016.7', 'pyxdg==0.25', 'pyyaml==3.11', 'pyzmq==15.2.0', 'qtconsole==4.2.1', 'rasterio==0.35.1', 'rasterstats==0.10.3', 'reportlab==3.3.0', 'requests==2.10.0', 'rtree==0.8.2', 'scgi==1.13', 'scikit-image==0.12.3', 'scikit-learn==0.17.1', 'scipy==0.17.1', 'seaborn==0.7.0', 'sessioninstaller==0.0.0', 'setuptools==23.1.0', 'shapely==1.5.16', 'simplegeneric==0.8.1', 'singledispatch==3.4.0.3', 'six==1.10.0', 'snuggs==1.3.1', 'software-center-aptd-plugins==0.0.0', 'statistics==1.0.3.5', 'statsmodels==0.6.1', 'system-service==0.1.6', 'tempita==0.5.2', 'terminado==0.6', 'toolz==0.8.0', 'tornado==4.4', 'traitlets==4.2.1', 'twisted-core==13.2.0', 'twisted-web==13.2.0', 'unity-lens-photos==1.0', 'urllib3==1.15.1', 'wheel==0.24.0', 'widgetsnbextension==1.2.3', 'xarray==0.7.2', u'xdiagnose==3.6.3build2', 'xlrd==1.0.0', 'yarg==0.1.9', 'zope.interface==4.1.3']\n"
     ]
    }
   ],
   "source": [
    "import pip\n",
    "installed_packages = pip.get_installed_distributions()\n",
    "installed_packages_list = sorted([\"%s==%s\" % (i.key, i.version)\n",
    "     for i in installed_packages])\n",
    "print(installed_packages_list)"
   ]
  },
  {
   "cell_type": "code",
   "execution_count": null,
   "metadata": {
    "collapsed": true
   },
   "outputs": [],
   "source": []
  }
 ],
 "metadata": {
  "kernelspec": {
   "display_name": "Python 2",
   "language": "python",
   "name": "python2"
  },
  "language_info": {
   "codemirror_mode": {
    "name": "ipython",
    "version": 2
   },
   "file_extension": ".py",
   "mimetype": "text/x-python",
   "name": "python",
   "nbconvert_exporter": "python",
   "pygments_lexer": "ipython2",
   "version": "2.7.6"
  },
  "widgets": {
   "state": {},
   "version": "1.1.2"
  }
 },
 "nbformat": 4,
 "nbformat_minor": 0
}
